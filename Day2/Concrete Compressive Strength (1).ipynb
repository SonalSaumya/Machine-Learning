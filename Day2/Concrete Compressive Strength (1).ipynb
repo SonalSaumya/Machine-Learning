{
 "cells": [
  {
   "cell_type": "code",
   "execution_count": null,
   "id": "0fbc2796-d77a-4eb1-a984-6f685253401a",
   "metadata": {},
   "outputs": [],
   "source": []
  },
  {
   "cell_type": "code",
   "execution_count": 1,
   "id": "ac20dfee-3d2d-42db-b3de-22cb31b9ba3e",
   "metadata": {},
   "outputs": [],
   "source": [
    "import pandas as pd\n",
    "import numpy as np\n",
    "import matplotlib.pyplot as plt\n",
    "from sklearn.linear_model import LinearRegression\n",
    "import seaborn as sns"
   ]
  },
  {
   "cell_type": "code",
   "execution_count": 2,
   "id": "baabadb7-bef7-402b-a49a-c946204fb3d6",
   "metadata": {},
   "outputs": [
    {
     "ename": "ModuleNotFoundError",
     "evalue": "No module named 'ucimlrepo'",
     "output_type": "error",
     "traceback": [
      "\u001b[1;31m---------------------------------------------------------------------------\u001b[0m",
      "\u001b[1;31mModuleNotFoundError\u001b[0m                       Traceback (most recent call last)",
      "Cell \u001b[1;32mIn[2], line 1\u001b[0m\n\u001b[1;32m----> 1\u001b[0m \u001b[38;5;28;01mfrom\u001b[39;00m \u001b[38;5;21;01mucimlrepo\u001b[39;00m \u001b[38;5;28;01mimport\u001b[39;00m fetch_ucirepo \n\u001b[0;32m      3\u001b[0m \u001b[38;5;66;03m# fetch dataset \u001b[39;00m\n\u001b[0;32m      4\u001b[0m concrete_compressive_strength \u001b[38;5;241m=\u001b[39m fetch_ucirepo(\u001b[38;5;28mid\u001b[39m\u001b[38;5;241m=\u001b[39m\u001b[38;5;241m165\u001b[39m) \n",
      "\u001b[1;31mModuleNotFoundError\u001b[0m: No module named 'ucimlrepo'"
     ]
    }
   ],
   "source": [
    "from ucimlrepo import fetch_ucirepo \n",
    "  \n",
    "# fetch dataset \n",
    "concrete_compressive_strength = fetch_ucirepo(id=165) \n",
    "  \n",
    "# data (as pandas dataframes) \n",
    "X = concrete_compressive_strength.data.features \n",
    "y = concrete_compressive_strength.data.targets \n",
    "  \n",
    "# metadata \n",
    "print(concrete_compressive_strength.metadata) \n",
    "  \n",
    "# variable information \n",
    "print(concrete_compressive_strength.variables) \n"
   ]
  },
  {
   "cell_type": "code",
   "execution_count": null,
   "id": "b084037c-eb74-43b8-9bcf-732d3ced3a3f",
   "metadata": {},
   "outputs": [],
   "source": [
    "X"
   ]
  },
  {
   "cell_type": "code",
   "execution_count": null,
   "id": "d2be4163-1473-4287-8398-82c755a31b24",
   "metadata": {},
   "outputs": [],
   "source": [
    "y"
   ]
  },
  {
   "cell_type": "code",
   "execution_count": null,
   "id": "bd33dfc8-5654-409c-82e3-ddf4ac1dc912",
   "metadata": {},
   "outputs": [],
   "source": [
    "concrete_compressive_strength"
   ]
  },
  {
   "cell_type": "code",
   "execution_count": null,
   "id": "ca4c8198-7b1d-45f0-abea-bffd2737800e",
   "metadata": {},
   "outputs": [],
   "source": [
    "entire_data = pd.concat([X,y], axis =1)\n",
    "entire_data"
   ]
  },
  {
   "cell_type": "code",
   "execution_count": null,
   "id": "04ab0616-b375-46f8-8543-b1e1c95b8cb5",
   "metadata": {},
   "outputs": [],
   "source": [
    "corr =entire_data.corr()"
   ]
  },
  {
   "cell_type": "code",
   "execution_count": null,
   "id": "7c4fe21a-a7fb-468a-bfb1-1e8276070a06",
   "metadata": {},
   "outputs": [],
   "source": [
    "sns.heatmap(corr,annot= True)"
   ]
  },
  {
   "cell_type": "code",
   "execution_count": null,
   "id": "6c29db2b-d940-4703-914b-a46de976ff5e",
   "metadata": {},
   "outputs": [],
   "source": [
    "from sklearn.model_selection import train_test_split\n",
    "from sklearn.metrics import r2_score,mean_squared_error"
   ]
  },
  {
   "cell_type": "code",
   "execution_count": null,
   "id": "07f1b356-d959-49db-804e-799776c29f78",
   "metadata": {},
   "outputs": [],
   "source": [
    "X_train,X_test,y_train,y_test  = train_test_split(X,y,random_state=24,test_size = 0.3)"
   ]
  },
  {
   "cell_type": "code",
   "execution_count": null,
   "id": "3a8a2961-4eee-467b-a305-d50a9dec20c1",
   "metadata": {},
   "outputs": [],
   "source": [
    "X_train.shape"
   ]
  },
  {
   "cell_type": "code",
   "execution_count": null,
   "id": "661b0d33-e4e5-4f07-af23-01bd5730f1bb",
   "metadata": {},
   "outputs": [],
   "source": [
    "y_train.shape"
   ]
  },
  {
   "cell_type": "code",
   "execution_count": null,
   "id": "ec939e1f-0965-4a68-a7cb-f66e4fa9fd5f",
   "metadata": {},
   "outputs": [],
   "source": [
    "lr = LinearRegression()"
   ]
  },
  {
   "cell_type": "code",
   "execution_count": null,
   "id": "17ee6554-b6f3-4251-8b1c-26253d5a08e7",
   "metadata": {},
   "outputs": [],
   "source": [
    "lr.fit(X_train,y_train)"
   ]
  },
  {
   "cell_type": "code",
   "execution_count": null,
   "id": "2b987c18-74ed-4e9e-b673-fee56c972799",
   "metadata": {},
   "outputs": [],
   "source": []
  },
  {
   "cell_type": "code",
   "execution_count": null,
   "id": "260b6d57-0382-42b0-890b-93347f172039",
   "metadata": {},
   "outputs": [],
   "source": []
  },
  {
   "cell_type": "code",
   "execution_count": null,
   "id": "6e3c2186-e1dc-425f-8ebe-a23bace03822",
   "metadata": {},
   "outputs": [],
   "source": []
  },
  {
   "cell_type": "code",
   "execution_count": null,
   "id": "16952821-da2d-49c9-9a9f-ab05f53507fc",
   "metadata": {},
   "outputs": [],
   "source": [
    "print(lr.intercept_,lr.coef_)"
   ]
  },
  {
   "cell_type": "code",
   "execution_count": null,
   "id": "a86115fc-e5b0-4dd4-ad73-9df65452d819",
   "metadata": {},
   "outputs": [],
   "source": [
    "y_pred = lr.predict(X_test)"
   ]
  },
  {
   "cell_type": "code",
   "execution_count": null,
   "id": "8b7b11b7-0e0a-41f0-bf17-36fcd383606e",
   "metadata": {},
   "outputs": [],
   "source": [
    "y_pred"
   ]
  },
  {
   "cell_type": "code",
   "execution_count": null,
   "id": "937db956-4cef-4ca8-af63-f9be0e7f0c67",
   "metadata": {},
   "outputs": [],
   "source": [
    "r2_score(y_test,y_pred)"
   ]
  },
  {
   "cell_type": "code",
   "execution_count": null,
   "id": "05c37a1f-b68a-46f9-8a74-bd7b3d9a912c",
   "metadata": {},
   "outputs": [],
   "source": [
    "X.shape"
   ]
  },
  {
   "cell_type": "code",
   "execution_count": null,
   "id": "bec45c5a-99fb-4e91-a8bc-c75868cbcbeb",
   "metadata": {},
   "outputs": [],
   "source": [
    "y_pred=lr.predict(X_train)\n",
    "r2_score= (y_test, y_pred)"
   ]
  },
  {
   "cell_type": "code",
   "execution_count": null,
   "id": "f4a36961-a956-48d8-b459-e47cd3db2cc1",
   "metadata": {},
   "outputs": [],
   "source": [
    "r2_score"
   ]
  },
  {
   "cell_type": "code",
   "execution_count": null,
   "id": "b28eecf8-9d50-4122-9534-075add447065",
   "metadata": {},
   "outputs": [],
   "source": []
  },
  {
   "cell_type": "code",
   "execution_count": null,
   "id": "6301fba0-02c9-4788-b76c-62d1f3bb381b",
   "metadata": {},
   "outputs": [],
   "source": []
  },
  {
   "cell_type": "code",
   "execution_count": null,
   "id": "2b7055eb-4f32-4f3f-947e-68d86f56e49a",
   "metadata": {},
   "outputs": [],
   "source": []
  }
 ],
 "metadata": {
  "kernelspec": {
   "display_name": "Python 3 (ipykernel)",
   "language": "python",
   "name": "python3"
  },
  "language_info": {
   "codemirror_mode": {
    "name": "ipython",
    "version": 3
   },
   "file_extension": ".py",
   "mimetype": "text/x-python",
   "name": "python",
   "nbconvert_exporter": "python",
   "pygments_lexer": "ipython3",
   "version": "3.12.4"
  }
 },
 "nbformat": 4,
 "nbformat_minor": 5
}
